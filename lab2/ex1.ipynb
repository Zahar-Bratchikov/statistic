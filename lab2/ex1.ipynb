{
 "cells": [
  {
   "cell_type": "markdown",
   "id": "a4881baf",
   "metadata": {},
   "source": [
    "# Лабораторная работа №2 (Подготовка данных в Pandas. Часть 2)"
   ]
  },
  {
   "cell_type": "markdown",
   "id": "91c2cb67",
   "metadata": {},
   "source": [
    "### 1. Создать новую переменную Total_count, в которую записать общее количество арендованных велосипедов за каждый час."
   ]
  },
  {
   "cell_type": "code",
   "execution_count": null,
   "id": "03116f34",
   "metadata": {},
   "outputs": [],
   "source": [
    "import pandas as pd\n",
    "import datetime\n",
    "import numpy as np\n",
    "\n",
    "df = pd.read_csv(\"BikeData.csv\")\n",
    "df['Total_count'] = df['Partner 1'] + df['Partner 2']\n",
    "display(df)"
   ]
  },
  {
   "cell_type": "markdown",
   "id": "3cec7b41",
   "metadata": {},
   "source": [
    "### 2. Удалить ряды Partner 1 и Partner 2"
   ]
  },
  {
   "cell_type": "code",
   "execution_count": null,
   "id": "816166cc",
   "metadata": {},
   "outputs": [],
   "source": [
    "df = df.drop(columns=['Partner 1', 'Partner 2'])\n",
    "display(df)"
   ]
  },
  {
   "cell_type": "markdown",
   "id": "f2f087d6",
   "metadata": {},
   "source": [
    "### 3. Преобразовать Date к стандартной форме"
   ]
  },
  {
   "cell_type": "code",
   "execution_count": null,
   "id": "b44d5a98",
   "metadata": {},
   "outputs": [],
   "source": [
    "df['Date'] = pd.to_datetime(df['Date'], dayfirst = True)\n",
    "display(df)"
   ]
  },
  {
   "cell_type": "markdown",
   "id": "761c6b36",
   "metadata": {},
   "source": [
    "### 4. Определить сколько велосипедов было выдано в день выполнения задания, определить день недели"
   ]
  },
  {
   "cell_type": "code",
   "execution_count": null,
   "id": "6c3da49a",
   "metadata": {},
   "outputs": [],
   "source": [
    "today = datetime.datetime.today()\n",
    "filtered_df = df[(df['Date'].dt.day == today.day) & (df['Date'].dt.month == today.month)]\n",
    "#display(filtered_df)\n",
    "total_bikes_rented = filtered_df['Total_count'].sum()\n",
    "day_of_week = filtered_df['Date'].iloc[0].strftime('%A')\n",
    "print(f\"Всего велосипедов продано: {total_bikes_rented}\")\n",
    "print(f\"День недели: {day_of_week}\")"
   ]
  },
  {
   "cell_type": "markdown",
   "id": "5e27e9a6",
   "metadata": {},
   "source": [
    "### 5. Перекодировка Functioning Day в boolean"
   ]
  },
  {
   "cell_type": "code",
   "execution_count": null,
   "id": "ef99681d",
   "metadata": {},
   "outputs": [],
   "source": [
    "df['Functioning Day'] = df['Functioning Day'].map({'Yes': True, 'No': False})\n",
    "display(df)"
   ]
  },
  {
   "cell_type": "markdown",
   "id": "247cd2f5",
   "metadata": {},
   "source": [
    "#### 5.1. Подсчет нерабочих дней"
   ]
  },
  {
   "cell_type": "code",
   "execution_count": null,
   "id": "b723f360",
   "metadata": {},
   "outputs": [],
   "source": [
    "daily_hours = df.groupby(df['Date'].dt.date)['Functioning Day'].sum()\n",
    "non_working_days = (daily_hours < 12).sum()\n",
    "print(f\"Число нерабочих дней: {non_working_days}\")"
   ]
  },
  {
   "cell_type": "markdown",
   "id": "a4fd3bee",
   "metadata": {},
   "source": [
    "### 6. Перекодировка Holiday в 0 и 1"
   ]
  },
  {
   "cell_type": "code",
   "execution_count": null,
   "id": "44fc6a55",
   "metadata": {},
   "outputs": [],
   "source": [
    "df['Holiday'] = df['Holiday'].apply(lambda x: 1 if x == 'Holiday' else 0)\n",
    "display(df)"
   ]
  },
  {
   "cell_type": "markdown",
   "id": "0300ac44",
   "metadata": {},
   "source": [
    "### 7. Ввод новой категориальной переменной Temperature category"
   ]
  },
  {
   "cell_type": "code",
   "execution_count": null,
   "id": "8eaa066e",
   "metadata": {},
   "outputs": [],
   "source": [
    "df['Temperature category'] = df['Temperature'].apply(lambda x: 'Freezing' if x < 0 else 'Chilly' if 0 <= x < 15 else 'Nice' if 15 <= x < 26 else 'Hot')\n",
    "display(df)"
   ]
  },
  {
   "cell_type": "markdown",
   "id": "f1a159a6",
   "metadata": {},
   "source": [
    "### 8. Создать новую переменную Good weather"
   ]
  },
  {
   "cell_type": "code",
   "execution_count": null,
   "id": "9db1b600",
   "metadata": {},
   "outputs": [],
   "source": [
    "df['Good weather'] = ((df['Temperature category'] == 'Nice') & \n",
    "                      (df['Humidity'] >= 40) & (df['Humidity'] <= 60) &\n",
    "                      (df['Wind speed'] < 5.4) &\n",
    "                      (df['Rainfall'] == 0) &\n",
    "                      (df['Snowfall'] == 0)\n",
    "                      ).astype(int)\n",
    "display(df)\n",
    "good_weather_pct = df['Good weather'].mean() * 100\n",
    "print(f\"Процент дней с хорошей погодой: {good_weather_pct:.2f}%\")"
   ]
  },
  {
   "cell_type": "markdown",
   "id": "678df9d6",
   "metadata": {},
   "source": [
    "### 9. Сгруппировать данные по сезонам (Seasons), внутри сезона по категории погоды (Temperature category) и вывести для полученной группировки количество арендованных велосипедов."
   ]
  },
  {
   "cell_type": "markdown",
   "id": "441ed8cc",
   "metadata": {},
   "source": [
    "#### 9.1. Группировка через group by"
   ]
  },
  {
   "cell_type": "code",
   "execution_count": null,
   "id": "682f3759",
   "metadata": {},
   "outputs": [],
   "source": [
    "grouped = df.groupby(['Seasons', 'Temperature category'])['Total_count'].sum()\n",
    "display(grouped)"
   ]
  },
  {
   "cell_type": "markdown",
   "id": "4e8a8875",
   "metadata": {},
   "source": [
    "#### 9.2. Групировка через сводную таблицу"
   ]
  },
  {
   "cell_type": "code",
   "execution_count": null,
   "id": "f80c584a",
   "metadata": {},
   "outputs": [],
   "source": [
    "pivot = df.pivot_table(index='Seasons', columns='Temperature category', values='Total_count', aggfunc='sum')\n",
    "display(pivot)"
   ]
  },
  {
   "cell_type": "markdown",
   "id": "f433552e",
   "metadata": {},
   "source": [
    "### 10. Определить сезон и температуру при которых выдается наибольшее и наименьшее количество велосипедов"
   ]
  },
  {
   "cell_type": "code",
   "execution_count": 47,
   "id": "0ce54cc7",
   "metadata": {},
   "outputs": [
    {
     "name": "stdout",
     "output_type": "stream",
     "text": [
      "Максимальное количество велосипедов арендовано в сезоне Summer при температуре Hot, количество велосипедов: 1347262\n",
      "Минимальное количество велосипедов арендовано в сезоне Spring при температуре Freezing, количество велосипедов: 6331\n"
     ]
    }
   ],
   "source": [
    "max_row = grouped.idxmax()\n",
    "min_row = grouped.idxmin()\n",
    "print(f\"Максимальное количество велосипедов арендовано в сезоне {max_row[0]} при температуре {max_row[1]}, количество велосипедов: {grouped[max_row]}\")\n",
    "print(f\"Минимальное количество велосипедов арендовано в сезоне {min_row[0]} при температуре {min_row[1]}, количество велосипедов: {grouped[min_row]}\")"
   ]
  }
 ],
 "metadata": {
  "kernelspec": {
   "display_name": ".venv",
   "language": "python",
   "name": "python3"
  },
  "language_info": {
   "codemirror_mode": {
    "name": "ipython",
    "version": 3
   },
   "file_extension": ".py",
   "mimetype": "text/x-python",
   "name": "python",
   "nbconvert_exporter": "python",
   "pygments_lexer": "ipython3",
   "version": "3.13.7"
  }
 },
 "nbformat": 4,
 "nbformat_minor": 5
}
