{
 "cells": [
  {
   "cell_type": "markdown",
   "id": "a498e99d",
   "metadata": {},
   "source": [
    "### 1) Загрузка таблиц по ссылкам и объединение ###"
   ]
  },
  {
   "cell_type": "code",
   "execution_count": null,
   "id": "4158b2f7",
   "metadata": {},
   "outputs": [],
   "source": [
    "import pandas as pd\n",
    "import numpy as np\n",
    "from IPython.display import display\n",
    "\n",
    "url_1 = \"https://pstu.ru/files/file/Abitur/2025%20final/%D0%93%D0%9D%D0%A4_%D0%91_%D0%9D_000006989.html\"\n",
    "url_2 = \"https://pstu.ru/files/file/Abitur/2025%20final/%D0%93%D0%9D%D0%A4_%D0%91_%D0%98_000007463.html\"\n",
    "\n",
    "\n",
    "def read_table(url: str) -> pd.DataFrame:\n",
    "    tables = pd.read_html(url, header=0, skiprows=12)\n",
    "    df = tables[0].copy()\n",
    "    return df\n",
    "\n",
    "# Загружаем обе таблицы и объединяем\n",
    "top = read_table(url_1)\n",
    "bottom = read_table(url_2)\n",
    "raw_df = pd.concat([top, bottom], ignore_index=True, sort=False)\n",
    "display(raw_df)\n"
   ]
  },
  {
   "cell_type": "markdown",
   "id": "a171c301",
   "metadata": {},
   "source": [
    "### 2) Приведение к \"рабочему\" виду ###"
   ]
  },
  {
   "cell_type": "code",
   "execution_count": null,
   "id": "7dda8703",
   "metadata": {},
   "outputs": [],
   "source": [
    "df = raw_df.copy()\n",
    "\n",
    "# Заменяем сложные названия предметов на простые\n",
    "df.columns = [str(c).strip().replace(\"\\n\", \" \") for c in df.columns]\n",
    "rename_map = {}\n",
    "for c in df.columns:\n",
    "    if ('АиНМА' in c) or ('Математика' in c):\n",
    "        rename_map[c] = 'Предмет №1'\n",
    "    elif any(k in c for k in ['ПФ', 'География', 'Информатика и ИКТ', 'Физика', 'Химия']):\n",
    "        rename_map[c] = 'Предмет №2'\n",
    "    elif 'Русский' in c:\n",
    "        rename_map[c] = 'Русский язык'\n",
    "df = df.rename(columns=rename_map)\n",
    "\n",
    "# Удаляем полностью пустые столбцы\n",
    "df = df.dropna(axis=1, how='all')\n",
    "\n",
    "# Нормализуем заголовки\n",
    "df.columns = [str(c).strip().replace('\\n', ' ') for c in df.columns]\n",
    "\n",
    "\n",
    "# Удаляем служебные столбцы, если присутствуют\n",
    "cols_to_drop = [\n",
    "    '№',\n",
    "    'Уникальный код',\n",
    "    'Представление приказа',\n",
    "    'Учебная группа',\n",
    "    'Идентификационный номер заказчика целевого обучения (для целевого приема)',\n",
    "    'Номер предложения (для целевого приема)'\n",
    "]\n",
    "df = df.drop(columns=[c for c in cols_to_drop if c in df.columns], errors='ignore')\n",
    "\n",
    "# Переустанавливаем индексацию\n",
    "df = df.reset_index(drop=True)\n",
    "df.index = df.index + 1\n",
    "df.index.name = '№'\n",
    "\n",
    "display(df.head(15))\n"
   ]
  },
  {
   "cell_type": "markdown",
   "id": "3afd13fb",
   "metadata": {},
   "source": [
    "### 3) Проверка типов и приведение количественных к числовому типу ###"
   ]
  },
  {
   "cell_type": "code",
   "execution_count": null,
   "id": "02a42a13",
   "metadata": {},
   "outputs": [],
   "source": [
    "print(\"До преобразования:\")\n",
    "print(df.dtypes)\n",
    "\n",
    "numeric_candidates = [\n",
    "    c for c in df.columns\n",
    "    if any(k in c for k in ['Сумма баллов', 'Предмет №1', 'Предмет №2', 'Русский'])\n",
    "]\n",
    "\n",
    "for c in numeric_candidates:\n",
    "    df[c] = pd.to_numeric(\n",
    "        df[c].astype(str).str.replace(',', '.', regex=False),\n",
    "        errors='coerce'\n",
    "    )\n",
    "\n",
    "print(\"\\nПосле преобразования:\")\n",
    "print(df[numeric_candidates].dtypes)\n",
    "\n",
    "display(df)\n"
   ]
  },
  {
   "cell_type": "markdown",
   "id": "68c75969",
   "metadata": {},
   "source": [
    "### 4) Средний, минимальный и максимальный суммарные баллы ###"
   ]
  },
  {
   "cell_type": "code",
   "execution_count": null,
   "id": "40ac8541",
   "metadata": {},
   "outputs": [],
   "source": [
    "if 'Сумма баллов' not in df.columns:\n",
    "    raise ValueError(\"Колонка 'Сумма баллов' не найдена.\")\n",
    "\n",
    "mean_total = df['Сумма баллов'].mean()\n",
    "min_total = df['Сумма баллов'].min()\n",
    "max_total = df['Сумма баллов'].max()\n",
    "\n",
    "print(f\"Средняя сумма баллов: {mean_total:.2f}\")\n",
    "print(\"Минимальная сумма баллов:\", min_total)\n",
    "print(\"Максимальная сумма баллов:\", max_total)\n",
    "display(df)\n"
   ]
  },
  {
   "cell_type": "markdown",
   "id": "eeb1a28f",
   "metadata": {},
   "source": [
    "### 5) Средние по трём предметам и предмет с наибольшим средним ###"
   ]
  },
  {
   "cell_type": "code",
   "execution_count": null,
   "id": "4cc34355",
   "metadata": {},
   "outputs": [],
   "source": [
    "required_cols = ['Предмет №1', 'Предмет №2', 'Русский язык']\n",
    "missing = [c for c in required_cols if c not in df.columns]\n",
    "\n",
    "means_df = pd.DataFrame({\n",
    "    'Предмет №1': [df['Предмет №1'].mean()],\n",
    "    'Предмет №2': [df['Предмет №2'].mean()],\n",
    "    'Русский язык': [df['Русский язык'].mean()],\n",
    "}, index=['Среднее'])\n",
    "\n",
    "display(means_df)\n",
    "\n",
    "top_subject = means_df.idxmax(axis=1).values[0]\n",
    "print(\"Предмет с наибольшим средним баллом:\", top_subject)\n"
   ]
  },
  {
   "cell_type": "markdown",
   "id": "3d950e5a",
   "metadata": {},
   "source": [
    "### 6) Количество абитуриентов Тип_1 ###"
   ]
  },
  {
   "cell_type": "code",
   "execution_count": null,
   "id": "fd7a1322",
   "metadata": {},
   "outputs": [],
   "source": [
    "candidates = {c: c for c in df.columns if c in ['Русский язык', 'Предмет №1', 'Предмет №2']}\n",
    "rus_col = candidates.get('Русский язык')\n",
    "subj1_col = candidates.get('Предмет №1')\n",
    "subj2_col = candidates.get('Предмет №2')\n",
    "\n",
    "rus_mean = df[rus_col].mean() if rus_col else np.nan\n",
    "subj1_mean = df[subj1_col].mean() if subj1_col else np.nan\n",
    "subj2_mean = df[subj2_col].mean() if subj2_col else np.nan\n",
    "\n",
    "if all([rus_col, subj1_col, subj2_col]):\n",
    "    type_1 = int(((df[rus_col] < rus_mean) & (df[subj1_col] > subj1_mean) & (df[subj2_col] > subj2_mean)).sum())\n",
    "else:\n",
    "    type_1 = 0\n",
    "\n",
    "print(\"Кол-во студентов Тип_1:\", type_1)\n"
   ]
  },
  {
   "cell_type": "markdown",
   "id": "3a648fa7",
   "metadata": {},
   "source": [
    "### 7) Количество абитуриентов Тип_2 ###"
   ]
  },
  {
   "cell_type": "code",
   "execution_count": null,
   "id": "2224f128",
   "metadata": {},
   "outputs": [],
   "source": [
    "if all([rus_col, subj1_col, subj2_col]):\n",
    "    type_2 = int(((df[rus_col] > rus_mean) & (df[subj1_col] < subj1_mean) & (df[subj2_col] < subj2_mean)).sum())\n",
    "else:\n",
    "    type_2 = 0\n",
    "\n",
    "print(\"Кол-во студентов Тип_2:\", type_2)\n"
   ]
  },
  {
   "cell_type": "markdown",
   "id": "f03d6f26",
   "metadata": {},
   "source": [
    "### 8) Итоговый DataFrame с метаданными ###"
   ]
  },
  {
   "cell_type": "code",
   "execution_count": null,
   "id": "aa38a349",
   "metadata": {},
   "outputs": [],
   "source": [
    "summary_df = pd.DataFrame([\n",
    "    {\n",
    "        \"Подразделение\": \"Горно-нефтяной факультет\",\n",
    "        \"Уровень подготовки\": \"Специалитет\",\n",
    "        \"Направление подготовки/специальность\": \"Физические процессы горного или нефтегазового производства\",\n",
    "        \"Год\": 2025,\n",
    "        \"Количество мест\": int(len(df)),\n",
    "        \"Предметы ЕГЭ\": \"Предмет №1, Предмет №2, Русский язык\",\n",
    "        \"Средняя сумма баллов\": float(mean_total) if pd.notna(mean_total) else None,\n",
    "        \"Min сумма баллов\": float(min_total) if pd.notna(min_total) else None,\n",
    "        \"Max сумма баллов\": float(max_total) if pd.notna(max_total) else None,\n",
    "        \"Предмет с высшим средним\": top_subject,\n",
    "        \"Кол-во студентов тип_1\": int(type_1),\n",
    "        \"Кол-во студентов тип_2\": int(type_2),\n",
    "    }\n",
    "])\n",
    "\n",
    "display(summary_df)\n"
   ]
  }
 ],
 "metadata": {
  "kernelspec": {
   "display_name": ".venv",
   "language": "python",
   "name": "python3"
  },
  "language_info": {
   "codemirror_mode": {
    "name": "ipython",
    "version": 3
   },
   "file_extension": ".py",
   "mimetype": "text/x-python",
   "name": "python",
   "nbconvert_exporter": "python",
   "pygments_lexer": "ipython3",
   "version": "3.13.7"
  }
 },
 "nbformat": 4,
 "nbformat_minor": 5
}
