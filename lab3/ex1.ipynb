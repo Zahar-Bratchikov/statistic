{
 "cells": [
  {
   "cell_type": "markdown",
   "id": "c597f637",
   "metadata": {},
   "source": [
    "# Лабораторная работа №3\n",
    "## Вариант 4\n",
    "### 1. Вычислить средние рейтинги для фильма с ID 4 в зависимости от пола"
   ]
  },
  {
   "cell_type": "markdown",
   "id": "91e9009c",
   "metadata": {},
   "source": [
    "#### 1.1. Считать данные"
   ]
  },
  {
   "cell_type": "code",
   "execution_count": null,
   "id": "d6efcf6c",
   "metadata": {},
   "outputs": [],
   "source": [
    "import pandas as pd\n",
    "\n",
    "movies = pd.read_table(\"ml-1m/movies.dat\", sep=\"::\",names=[\"MovieID\", \"Title\", \"Genres\"], encoding=\"latin-1\", engine=\"python\")\n",
    "ratings = pd.read_table(\"ml-1m/ratings.dat\", sep=\"::\", names=[\"UserID\", \"MovieID\", \"Rating\", \"Timestamp\"], encoding=\"latin-1\", engine=\"python\")\n",
    "users = pd.read_table(\"ml-1m/users.dat\", sep=\"::\", names=[\"UserID\", \"Gender\", \"Age\", \"Occupation\", \"Zip-code\"], encoding=\"latin-1\", engine=\"python\")\n",
    "display(movies)\n",
    "display(ratings)\n",
    "display(users)"
   ]
  },
  {
   "cell_type": "markdown",
   "id": "bbd6ba71",
   "metadata": {},
   "source": [
    "#### 1.2. Объединить таблицы"
   ]
  },
  {
   "cell_type": "code",
   "execution_count": null,
   "id": "a8e893fb",
   "metadata": {},
   "outputs": [],
   "source": [
    "df = ratings.merge(users, on=\"UserID\").merge(movies, on=\"MovieID\")\n",
    "display(df)"
   ]
  },
  {
   "cell_type": "markdown",
   "id": "ce575b4f",
   "metadata": {},
   "source": [
    "#### 1.3. Вычислить средний рейтинг по полу"
   ]
  },
  {
   "cell_type": "code",
   "execution_count": null,
   "id": "ae5fdbe4",
   "metadata": {},
   "outputs": [],
   "source": [
    "movie_id = 4 # № варианта\n",
    "result1 = df[df[\"MovieID\"] == movie_id].groupby(\"Gender\")[\"Rating\"].mean()\n",
    "film = movies[movies[\"MovieID\"] == movie_id][\"Title\"].values[0]\n",
    "print(film)\n",
    "display(result1)"
   ]
  },
  {
   "cell_type": "markdown",
   "id": "eb4698c7",
   "metadata": {},
   "source": [
    "### 2. Отобрать фильмы, получившие не менее 250 оценок, и для них определить средний рейтинг в зависимости от пола"
   ]
  },
  {
   "cell_type": "markdown",
   "id": "bb644015",
   "metadata": {},
   "source": [
    "#### 2.1. Сосчитать количество оценок на фильм"
   ]
  },
  {
   "cell_type": "code",
   "execution_count": null,
   "id": "42186208",
   "metadata": {},
   "outputs": [],
   "source": [
    "\n",
    "rating_counts = (df.groupby(\"MovieID\")).size()\n",
    "popular_movies = rating_counts[rating_counts >= 250].index"
   ]
  },
  {
   "cell_type": "markdown",
   "id": "75af2a42",
   "metadata": {},
   "source": [
    "#### 2.2. Отфильтровать популярные фильмы"
   ]
  },
  {
   "cell_type": "code",
   "execution_count": null,
   "id": "9c838d02",
   "metadata": {},
   "outputs": [],
   "source": [
    "df_popular = df[df[\"MovieID\"].isin(popular_movies)]"
   ]
  },
  {
   "cell_type": "markdown",
   "id": "a71e23a6",
   "metadata": {},
   "source": [
    "#### 2.3. Сгрупировать по MovieID и полу, посчитать средний рейтинг"
   ]
  },
  {
   "cell_type": "code",
   "execution_count": null,
   "id": "a0df09db",
   "metadata": {},
   "outputs": [],
   "source": [
    "gender_ratings = df_popular.groupby([\"MovieID\", \"Gender\"])[\"Rating\"].mean().unstack(fill_value=0)"
   ]
  },
  {
   "cell_type": "markdown",
   "id": "14fa15cb",
   "metadata": {},
   "source": [
    "#### 2.4. Привести к нужному формату"
   ]
  },
  {
   "cell_type": "code",
   "execution_count": null,
   "id": "5b2d90d6",
   "metadata": {},
   "outputs": [],
   "source": [
    "result2 = gender_ratings.reset_index()\n",
    "result2.columns = [\"MovieID\", \"Rating_F\", \"Rating_M\"]"
   ]
  },
  {
   "cell_type": "markdown",
   "id": "cc9d644b",
   "metadata": {},
   "source": [
    "#### 2.5. Добавить Title"
   ]
  },
  {
   "cell_type": "code",
   "execution_count": null,
   "id": "aee32768",
   "metadata": {},
   "outputs": [],
   "source": [
    "result2 = result2.merge(movies[[\"MovieID\", \"Title\"]], on=\"MovieID\")\n",
    "result2 = result2[[\"MovieID\", \"Title\", \"Rating_F\", \"Rating_M\"]]\n",
    "display(result2)"
   ]
  },
  {
   "cell_type": "markdown",
   "id": "4a3ce1b2",
   "metadata": {},
   "source": [
    "### 3. Найти фильмы, оказавшиеся в топ 5 у зрителей-женщин и худшие 5 у зрителей-мужчин.   Найти   фильмы   (топ   5),   по   которым   мужчины   и   женщины   сильнее   всего разошлись в оценках"
   ]
  },
  {
   "cell_type": "markdown",
   "id": "ce3334c2",
   "metadata": {},
   "source": [
    "#### 3.1. Создать df с фильмами где есть оценки и от M и от F"
   ]
  },
  {
   "cell_type": "code",
   "execution_count": null,
   "id": "8c38a79c",
   "metadata": {},
   "outputs": [],
   "source": [
    "gender_ratings_full = df_popular.groupby([\"MovieID\", \"Gender\"])[\"Rating\"].mean().unstack()\n",
    "gender_ratings_full = gender_ratings_full.dropna()\n",
    "display(gender_ratings_full)"
   ]
  },
  {
   "cell_type": "markdown",
   "id": "9bbc8aea",
   "metadata": {},
   "source": [
    "#### 3.2. Объединить с movies и добавить заголовок"
   ]
  },
  {
   "cell_type": "code",
   "execution_count": null,
   "id": "e6bd6d1b",
   "metadata": {},
   "outputs": [],
   "source": [
    "gender_ratings_full = gender_ratings_full.merge(movies[[\"MovieID\", \"Title\"]], on=\"MovieID\")\n",
    "display(gender_ratings_full)"
   ]
  },
  {
   "cell_type": "markdown",
   "id": "774e6880",
   "metadata": {},
   "source": [
    "#### 3.3. Определить топ 5 у женщин"
   ]
  },
  {
   "cell_type": "code",
   "execution_count": null,
   "id": "743b4769",
   "metadata": {},
   "outputs": [],
   "source": [
    "top_female = gender_ratings_full.nlargest(5, \"F\")[[\"MovieID\", \"Title\", \"F\"]]\n",
    "display(top_female)"
   ]
  },
  {
   "cell_type": "markdown",
   "id": "6f462de6",
   "metadata": {},
   "source": [
    "#### 3.4. Определить 5 худших у мужчин"
   ]
  },
  {
   "cell_type": "code",
   "execution_count": null,
   "id": "871afbb8",
   "metadata": {},
   "outputs": [],
   "source": [
    "worst_male = gender_ratings_full.nsmallest(5, \"M\")[[\"MovieID\", \"Title\", \"M\"]]\n",
    "display(worst_male)"
   ]
  },
  {
   "cell_type": "markdown",
   "id": "7fb343d7",
   "metadata": {},
   "source": [
    "#### 3.5. Определить топ 5 с наибольшим расхождением между мужчинами и женщинами"
   ]
  },
  {
   "cell_type": "code",
   "execution_count": null,
   "id": "8397e936",
   "metadata": {},
   "outputs": [],
   "source": [
    "gender_ratings_full[\"Diff\"] = (gender_ratings_full[\"F\"] - gender_ratings_full[\"M\"]).abs()\n",
    "top_diff = gender_ratings_full.nlargest(5, \"Diff\")[[\"MovieID\", \"Title\", \"Diff\"]]\n",
    "display(top_diff)"
   ]
  },
  {
   "cell_type": "markdown",
   "id": "4b72ae7c",
   "metadata": {},
   "source": [
    "### 4. Определить топ 5 фильмов с наибольшим разногласием (независимо от пола)"
   ]
  },
  {
   "cell_type": "code",
   "execution_count": null,
   "id": "33ce64ed",
   "metadata": {},
   "outputs": [],
   "source": [
    "disagreement = df.groupby(\"MovieID\")[\"Rating\"].std().sort_values(ascending=False).head(5)\n",
    "disagreement = disagreement.to_frame().merge(movies[[\"MovieID\", \"Title\"]], on=\"MovieID\")\n",
    "display(disagreement)"
   ]
  },
  {
   "cell_type": "markdown",
   "id": "c2f17b2c",
   "metadata": {},
   "source": [
    "### 5. Определить средний рейтинг каждого жанра для различных возрастов. Установите, фильмы какого жанра в каждой категории возрастов имеют наибольший и наименьший рейтинги."
   ]
  },
  {
   "cell_type": "markdown",
   "id": "0b4c5400",
   "metadata": {},
   "source": [
    "### 5.1. Добавить читаемый возраст"
   ]
  },
  {
   "cell_type": "code",
   "execution_count": null,
   "id": "8fca317f",
   "metadata": {},
   "outputs": [],
   "source": [
    "age_map = {\n",
    "    1: \"Under 18\",\n",
    "    18: \"18-24\",\n",
    "    25: \"25-34\",\n",
    "    35: \"35-44\",\n",
    "    45: \"45-49\",\n",
    "    50: \"50-55\",\n",
    "    56: \"56+\"\n",
    "}\n",
    "\n",
    "df[\"AgeGroup\"] = df[\"Age\"].map(age_map)\n",
    "display(df)"
   ]
  },
  {
   "cell_type": "markdown",
   "id": "bdc9320e",
   "metadata": {},
   "source": [
    "#### 5.2. Разделить по жанрам"
   ]
  },
  {
   "cell_type": "code",
   "execution_count": null,
   "id": "f39d3775",
   "metadata": {},
   "outputs": [],
   "source": [
    "df_exploded = df.copy()\n",
    "df_exploded[\"Genres\"] = df_exploded[\"Genres\"].str.split(\"|\")\n",
    "df_exploded = df_exploded.explode(\"Genres\")\n",
    "display(df_exploded)"
   ]
  },
  {
   "cell_type": "markdown",
   "id": "616f731e",
   "metadata": {},
   "source": [
    "#### 5.3. Сгрупировать по возрасту и жанру, сосчитать средний рейтинг"
   ]
  },
  {
   "cell_type": "code",
   "execution_count": null,
   "id": "f091f961",
   "metadata": {},
   "outputs": [],
   "source": [
    "genre_age_rating = df_exploded.groupby([\"Genres\", \"AgeGroup\"])[\"Rating\"].mean().reset_index()\n",
    "display(genre_age_rating)"
   ]
  },
  {
   "cell_type": "markdown",
   "id": "03ec5124",
   "metadata": {},
   "source": [
    "#### 5.4. Определить жанр с наибольшим и наименьшим рейтингом по возрастным группам"
   ]
  },
  {
   "cell_type": "code",
   "execution_count": null,
   "id": "31632fad",
   "metadata": {},
   "outputs": [],
   "source": [
    "best_idx = genre_age_rating.groupby(\"AgeGroup\")[\"Rating\"].idxmax()\n",
    "worst_idx = genre_age_rating.groupby(\"AgeGroup\")[\"Rating\"].idxmin()\n",
    "\n",
    "# Получаем соответствующие строки\n",
    "best_rows = genre_age_rating.loc[best_idx].set_index(\"AgeGroup\")\n",
    "worst_rows = genre_age_rating.loc[worst_idx].set_index(\"AgeGroup\")\n",
    "\n",
    "# Объединяем результаты\n",
    "result3 = pd.DataFrame({\n",
    "    \"BestGenre\": best_rows[\"Genres\"],\n",
    "    \"BestRating\": best_rows[\"Rating\"],\n",
    "    \"WorstGenre\": worst_rows[\"Genres\"],\n",
    "    \"WorstRating\": worst_rows[\"Rating\"]\n",
    "}).reset_index()\n",
    "display(result3)"
   ]
  }
 ],
 "metadata": {
  "kernelspec": {
   "display_name": ".venv",
   "language": "python",
   "name": "python3"
  },
  "language_info": {
   "codemirror_mode": {
    "name": "ipython",
    "version": 3
   },
   "file_extension": ".py",
   "mimetype": "text/x-python",
   "name": "python",
   "nbconvert_exporter": "python",
   "pygments_lexer": "ipython3",
   "version": "3.13.7"
  }
 },
 "nbformat": 4,
 "nbformat_minor": 5
}
