{
 "cells": [
  {
   "cell_type": "markdown",
   "id": "4dcdc271",
   "metadata": {},
   "source": [
    "# 1. Случайная величина X имеет нормальное распределение, M[X] = 10 и D[X] = 4."
   ]
  },
  {
   "cell_type": "code",
   "execution_count": null,
   "id": "1403f4c9",
   "metadata": {},
   "outputs": [],
   "source": [
    "import matplotlib.pyplot as plt\n",
    "from scipy.stats import norm, expon\n",
    "import numpy as np\n",
    "\n",
    "mu = 10\n",
    "d = 4\n",
    "sigma = np.sqrt(d)\n",
    "\n"
   ]
  },
  {
   "cell_type": "markdown",
   "id": "63285b20",
   "metadata": {},
   "source": [
    "#### Плотность и функция распределения для нормированной СВ"
   ]
  },
  {
   "cell_type": "code",
   "execution_count": null,
   "id": "0fd0b280",
   "metadata": {},
   "outputs": [],
   "source": [
    "z = np.linspace(-5, 5, 1000)\n",
    "pdf_z = norm.pdf(z)\n",
    "cdf_z = norm.cdf(z)"
   ]
  },
  {
   "cell_type": "markdown",
   "id": "9fa7e067",
   "metadata": {},
   "source": [
    "#### Плотность и функция распределения для СВ"
   ]
  },
  {
   "cell_type": "code",
   "execution_count": null,
   "id": "5c2c3f78",
   "metadata": {},
   "outputs": [],
   "source": [
    "x = np.linspace(mu - 5*sigma, mu + 5*sigma, 1000)\n",
    "pdf_x = norm.pdf(x, mu, sigma)\n",
    "cdf_x = norm.cdf(x, mu, sigma)"
   ]
  },
  {
   "cell_type": "markdown",
   "id": "86eefbe5",
   "metadata": {},
   "source": [
    "#### Вычислить вероятности"
   ]
  },
  {
   "cell_type": "code",
   "execution_count": null,
   "id": "24ebcd55",
   "metadata": {},
   "outputs": [],
   "source": [
    "P1 = norm.cdf(11, mu, sigma) # P(X < 11)\n",
    "P2 = 1 - norm.cdf(5, mu, sigma) # P(X > 5)\n",
    "P3 = norm.cdf(12, mu, sigma) - norm.cdf(4, mu, sigma) # P(4 < X < 12)\n",
    "\n",
    "print(f\"P(X < 11) = {P1:.4f}\")\n",
    "print(f\"P(X > 5) = {P2:.4f}\")\n",
    "print(f\"P(4 < X < 12) = {P3:.4f}\")"
   ]
  },
  {
   "cell_type": "markdown",
   "id": "226c1b46",
   "metadata": {},
   "source": [
    "#### Проверить правило 3 сигм"
   ]
  },
  {
   "cell_type": "code",
   "execution_count": null,
   "id": "fbeb4a45",
   "metadata": {},
   "outputs": [],
   "source": [
    "left_3sigma = mu - 3*sigma\n",
    "right_3sigma = mu + 3*sigma\n",
    "P_3sigma = norm.cdf(right_3sigma, mu, sigma) - norm.cdf(left_3sigma, mu, sigma)\n",
    "print(f\"Правило 3 сигм: {P_3sigma  }\")"
   ]
  },
  {
   "cell_type": "markdown",
   "id": "eb78f1de",
   "metadata": {},
   "source": [
    "#### Построение графиков"
   ]
  },
  {
   "cell_type": "code",
   "execution_count": null,
   "id": "d5734266",
   "metadata": {},
   "outputs": [],
   "source": [
    "plt.figure(figsize=(12, 6))\n",
    "\n",
    "plt.subplot(1, 2, 1)\n",
    "plt.title(f\"Плотность вероятности X ~ N({mu}, {d})\")\n",
    "plt.plot(x, pdf_x, label=\"PDF(X)\")\n",
    "plt.fill_between(x, pdf_x, where=(x<11), alpha=0.3, label=\"P(X < 11)\")\n",
    "plt.fill_between(x, pdf_x, where=(x>5), alpha=0.2, label=\"P(X > 5)\")\n",
    "plt.fill_between(x, pdf_x, where=((x>4) & (x<12)), alpha=0.4, label=\"P(4 < X < 12)\")\n",
    "plt.axvline(left_3sigma, color='r', linestyle='--', label='μ - 3σ')\n",
    "plt.axvline(right_3sigma, color='r', linestyle='--', label='μ + 3σ')\n",
    "plt.legend()\n",
    "plt.grid()\n",
    "\n",
    "plt.subplot(1, 2, 2)\n",
    "plt.title(f\"Функция распределения X ~ N({mu}, {d})\")\n",
    "plt.plot(x, cdf_x, label=\"CDF(X)\")\n",
    "plt.legend()\n",
    "plt.grid()\n",
    "\n",
    "plt.tight_layout()\n",
    "plt.show()"
   ]
  },
  {
   "cell_type": "markdown",
   "id": "5c1c1480",
   "metadata": {},
   "source": [
    "# 2. Случайная величина Y имеет экспоненциальное распределение, M[Y] = 2."
   ]
  },
  {
   "cell_type": "code",
   "execution_count": null,
   "id": "86c6e181",
   "metadata": {},
   "outputs": [],
   "source": [
    "mu_exp = 2\n",
    "lamb_exp = 1 / mu_exp"
   ]
  },
  {
   "cell_type": "markdown",
   "id": "e360d211",
   "metadata": {},
   "source": [
    "#### Плотность и функция распределения"
   ]
  },
  {
   "cell_type": "code",
   "execution_count": null,
   "id": "f9695a7d",
   "metadata": {},
   "outputs": [],
   "source": [
    "y = np.linspace(0, 10, 1000)\n",
    "pdf_y = expon.pdf(y, scale= 1 / lamb_exp)\n",
    "cdf_y = expon.cdf(y, scale= 1 / lamb_exp)"
   ]
  },
  {
   "cell_type": "markdown",
   "id": "9ac685cd",
   "metadata": {},
   "source": [
    "#### Вычислить вероятности"
   ]
  },
  {
   "cell_type": "code",
   "execution_count": null,
   "id": "4a1126b4",
   "metadata": {},
   "outputs": [],
   "source": [
    "P4 = expon.cdf(3, scale = 1 / lamb_exp)\n",
    "P5 = 1 - expon.cdf(2, scale = 1 / lamb_exp)\n",
    "P6 = expon.cdf(2.5, scale=1 / lamb_exp) - expon.cdf(1, scale=1 / lamb_exp)\n",
    "\n",
    "print(f\"P(Y < 3) = {P4:.4f}\")\n",
    "print(f\"P(Y > 2) = {P5:.4f}\")\n",
    "print(f\"P(1 < Y < 2.5) = {P6:.4f}\")"
   ]
  },
  {
   "cell_type": "markdown",
   "id": "4ac71b91",
   "metadata": {},
   "source": [
    "#### Проверит правило 3 сигм"
   ]
  },
  {
   "cell_type": "code",
   "execution_count": null,
   "id": "973b9cd5",
   "metadata": {},
   "outputs": [],
   "source": [
    "sigma_y = mu_exp\n",
    "left_3sigma_y = mu_exp - 3*sigma_y\n",
    "right_3sigma_y = mu_exp + 3*sigma_y\n",
    "P_3sigma_exp = expon.cdf(right_3sigma_y, scale=1 / lamb_exp) - expon.cdf(left_3sigma_y, scale=1 / lamb_exp)\n",
    "print(f\"Правило 3 сигм: {P_3sigma_exp}\")"
   ]
  },
  {
   "cell_type": "markdown",
   "id": "3b8d301f",
   "metadata": {},
   "source": [
    "#### Построение графиков"
   ]
  },
  {
   "cell_type": "code",
   "execution_count": null,
   "id": "7b65e49a",
   "metadata": {},
   "outputs": [],
   "source": [
    "plt.figure(figsize=(12, 6))\n",
    "\n",
    "plt.subplot(1,2,1)\n",
    "plt.title(f\"Плотность вероятности Y ~ Exponential(λ={lamb_exp})\")\n",
    "plt.plot(y, pdf_y, label=\"PDF(Y)\")\n",
    "plt.fill_between(y, pdf_y, where=(y<3), alpha=0.3, label=\"P(Y < 3)\")\n",
    "plt.fill_between(y, pdf_y, where=(y>2), alpha=0.2, label=\"P(Y > 2)\")\n",
    "plt.fill_between(y, pdf_y, where=((y>1) & (y<2.5)), alpha=0.4, label=\"P(1 < Y < 2.5)\")\n",
    "plt.axvline(left_3sigma_y, color='r', linestyle='--', label='μ - 3σ')\n",
    "plt.axvline(right_3sigma_y, color='r', linestyle='--', label='μ + 3σ')\n",
    "plt.legend()\n",
    "plt.grid()\n",
    "\n",
    "plt.subplot(1,2,2)\n",
    "plt.title(\"Функция распределения Y\")\n",
    "plt.plot(y, cdf_y, label=\"CDF(Y)\")\n",
    "plt.legend()\n",
    "plt.grid()\n",
    "\n",
    "plt.tight_layout()\n",
    "plt.show()"
   ]
  }
 ],
 "metadata": {
  "kernelspec": {
   "display_name": ".venv",
   "language": "python",
   "name": "python3"
  },
  "language_info": {
   "codemirror_mode": {
    "name": "ipython",
    "version": 3
   },
   "file_extension": ".py",
   "mimetype": "text/x-python",
   "name": "python",
   "nbconvert_exporter": "python",
   "pygments_lexer": "ipython3",
   "version": "3.13.7"
  }
 },
 "nbformat": 4,
 "nbformat_minor": 5
}
